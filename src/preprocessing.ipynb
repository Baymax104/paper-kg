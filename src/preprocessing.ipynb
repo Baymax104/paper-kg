{
 "cells": [
  {
   "cell_type": "code",
   "id": "initial_id",
   "metadata": {
    "collapsed": true,
    "ExecuteTime": {
     "end_time": "2025-01-05T13:25:16.554482Z",
     "start_time": "2025-01-05T13:25:16.551197Z"
    }
   },
   "source": [
    "import json\n",
    "from pathlib import Path"
   ],
   "outputs": [],
   "execution_count": 30
  },
  {
   "metadata": {},
   "cell_type": "markdown",
   "source": "加载和合并原始数据",
   "id": "aa1e3c59978fa6b6"
  },
  {
   "metadata": {
    "ExecuteTime": {
     "end_time": "2025-01-05T13:25:18.899993Z",
     "start_time": "2025-01-05T13:25:18.897583Z"
    }
   },
   "cell_type": "code",
   "source": "data_dir = Path('../data')",
   "id": "2488774afa0f4612",
   "outputs": [],
   "execution_count": 31
  },
  {
   "metadata": {
    "ExecuteTime": {
     "end_time": "2025-01-05T13:25:22.042346Z",
     "start_time": "2025-01-05T13:25:19.984460Z"
    }
   },
   "cell_type": "code",
   "source": [
    "ccf = json.load(open(data_dir / 'CCF.json', 'r', encoding='utf-8'))\n",
    "len(ccf)"
   ],
   "id": "5eeca237df798288",
   "outputs": [
    {
     "data": {
      "text/plain": [
       "200000"
      ]
     },
     "execution_count": 32,
     "metadata": {},
     "output_type": "execute_result"
    }
   ],
   "execution_count": 32
  },
  {
   "metadata": {
    "ExecuteTime": {
     "end_time": "2025-01-05T13:25:24.356436Z",
     "start_time": "2025-01-05T13:25:23.180446Z"
    }
   },
   "cell_type": "code",
   "source": [
    "sci = json.load(open(data_dir / 'CS-SCI_1-2.json', 'r', encoding='utf-8'))\n",
    "len(sci)"
   ],
   "id": "30b9ac8a15bd1cc3",
   "outputs": [
    {
     "data": {
      "text/plain": [
       "100000"
      ]
     },
     "execution_count": 33,
     "metadata": {},
     "output_type": "execute_result"
    }
   ],
   "execution_count": 33
  },
  {
   "metadata": {
    "ExecuteTime": {
     "end_time": "2025-01-05T13:25:33.376592Z",
     "start_time": "2025-01-05T13:25:25.923031Z"
    }
   },
   "cell_type": "code",
   "source": [
    "with open(data_dir / 'arxiv.json', 'r', encoding='utf-8') as f:\n",
    "    arxiv = [json.loads(line.strip(',\\n')) for line in f.readlines()]\n",
    "len(arxiv)"
   ],
   "id": "281ee2870bb7e96a",
   "outputs": [
    {
     "data": {
      "text/plain": [
       "200000"
      ]
     },
     "execution_count": 34,
     "metadata": {},
     "output_type": "execute_result"
    }
   ],
   "execution_count": 34
  },
  {
   "metadata": {
    "ExecuteTime": {
     "end_time": "2025-01-05T13:25:34.560685Z",
     "start_time": "2025-01-05T13:25:34.558607Z"
    }
   },
   "cell_type": "code",
   "source": [
    "from itertools import chain\n",
    "from tqdm import tqdm"
   ],
   "id": "d0da14518d85a10c",
   "outputs": [],
   "execution_count": 35
  },
  {
   "metadata": {
    "ExecuteTime": {
     "end_time": "2025-01-05T13:25:36.064772Z",
     "start_time": "2025-01-05T13:25:36.011247Z"
    }
   },
   "cell_type": "code",
   "source": [
    "data = list(chain(ccf, sci, arxiv))\n",
    "len(data)"
   ],
   "id": "6f3cc8d069482302",
   "outputs": [
    {
     "data": {
      "text/plain": [
       "500000"
      ]
     },
     "execution_count": 36,
     "metadata": {},
     "output_type": "execute_result"
    }
   ],
   "execution_count": 36
  },
  {
   "metadata": {
    "ExecuteTime": {
     "end_time": "2025-01-05T13:25:37.956313Z",
     "start_time": "2025-01-05T13:25:37.950212Z"
    }
   },
   "cell_type": "code",
   "source": "del ccf, sci, arxiv",
   "id": "7cb6bca9645c9c5d",
   "outputs": [],
   "execution_count": 37
  },
  {
   "metadata": {},
   "cell_type": "markdown",
   "source": "所有数据共50万条，每条数据均包含_id、title、abstract、author四个字段",
   "id": "98670842d8e8817d"
  },
  {
   "metadata": {},
   "cell_type": "markdown",
   "source": [
    "数据清洗\n",
    "1. 去除缺失值\n",
    "2. 去除重复值"
   ],
   "id": "eb269ee3b5769c7c"
  },
  {
   "metadata": {
    "ExecuteTime": {
     "end_time": "2025-01-05T13:25:49.230800Z",
     "start_time": "2025-01-05T13:25:48.996622Z"
    }
   },
   "cell_type": "code",
   "source": [
    "data1 = list(filter(lambda d: d['_id'] and d['title'] and d['abstract'] and d['author'], data))\n",
    "len(data1)"
   ],
   "id": "7d88db187fcfebcd",
   "outputs": [
    {
     "data": {
      "text/plain": [
       "491862"
      ]
     },
     "execution_count": 38,
     "metadata": {},
     "output_type": "execute_result"
    }
   ],
   "execution_count": 38
  },
  {
   "metadata": {
    "ExecuteTime": {
     "end_time": "2025-01-05T13:25:52.479714Z",
     "start_time": "2025-01-05T13:25:52.175456Z"
    }
   },
   "cell_type": "code",
   "source": [
    "unique_id = set()\n",
    "unique_title = set()\n",
    "data2 = []\n",
    "for d in tqdm(data1):\n",
    "    if d['_id'] not in unique_id and d['title'] not in unique_title:\n",
    "        unique_id.add(d['_id'])\n",
    "        unique_title.add(d['title'])\n",
    "        data2.append(d)\n",
    "\n",
    "len(data2)"
   ],
   "id": "5d6e92ead2b53c66",
   "outputs": [
    {
     "name": "stderr",
     "output_type": "stream",
     "text": [
      "100%|██████████| 491862/491862 [00:00<00:00, 1893975.74it/s]\n"
     ]
    },
    {
     "data": {
      "text/plain": [
       "449383"
      ]
     },
     "execution_count": 39,
     "metadata": {},
     "output_type": "execute_result"
    }
   ],
   "execution_count": 39
  },
  {
   "metadata": {
    "ExecuteTime": {
     "end_time": "2025-01-05T13:34:37.301017Z",
     "start_time": "2025-01-05T13:34:36.905851Z"
    }
   },
   "cell_type": "code",
   "source": [
    "for d in tqdm(data2):\n",
    "    d['_id'] = d['_id'].replace('\\n', '')\n",
    "    d['title'] = d['title'].replace('\\n', '')\n",
    "    d['abstract'] = d['abstract'].replace('\\n', ' ')\n",
    "    d['author'] = d['author'].replace('\\n', '')"
   ],
   "id": "9c192f6782a9357f",
   "outputs": [
    {
     "name": "stderr",
     "output_type": "stream",
     "text": [
      "100%|██████████| 449383/449383 [00:00<00:00, 1151321.36it/s]\n"
     ]
    }
   ],
   "execution_count": 43
  },
  {
   "metadata": {
    "ExecuteTime": {
     "end_time": "2025-01-05T13:35:00.438405Z",
     "start_time": "2025-01-05T13:34:46.413993Z"
    }
   },
   "cell_type": "code",
   "source": [
    "with open(data_dir / 'data.jsonl', 'w', encoding='utf-8') as f:\n",
    "    for d in tqdm(data2):\n",
    "        f.write(json.dumps(d, ensure_ascii=False) + '\\n')"
   ],
   "id": "e1c9adb4ecf4455d",
   "outputs": [
    {
     "name": "stderr",
     "output_type": "stream",
     "text": [
      "100%|██████████| 449383/449383 [00:13<00:00, 32194.50it/s]\n"
     ]
    }
   ],
   "execution_count": 44
  },
  {
   "metadata": {
    "ExecuteTime": {
     "end_time": "2025-01-05T13:26:24.382741Z",
     "start_time": "2025-01-05T13:26:24.380043Z"
    }
   },
   "cell_type": "code",
   "source": "import random",
   "id": "c334e845c4069130",
   "outputs": [],
   "execution_count": 41
  },
  {
   "metadata": {
    "ExecuteTime": {
     "end_time": "2025-01-05T13:35:03.851967Z",
     "start_time": "2025-01-05T13:35:03.822843Z"
    }
   },
   "cell_type": "code",
   "source": [
    "with open(data_dir / 'dev.jsonl', 'w', encoding='utf-8') as f:\n",
    "    for d in tqdm(random.sample(data2, 500)):\n",
    "        f.write(json.dumps(d, ensure_ascii=False) + '\\n')"
   ],
   "id": "26686a0e8b2b3f60",
   "outputs": [
    {
     "name": "stderr",
     "output_type": "stream",
     "text": [
      "100%|██████████| 500/500 [00:00<00:00, 23416.69it/s]\n"
     ]
    }
   ],
   "execution_count": 45
  },
  {
   "metadata": {},
   "cell_type": "code",
   "outputs": [],
   "execution_count": null,
   "source": "",
   "id": "cff1408ac8e92f81"
  }
 ],
 "metadata": {
  "kernelspec": {
   "display_name": "Python 3",
   "language": "python",
   "name": "python3"
  },
  "language_info": {
   "codemirror_mode": {
    "name": "ipython",
    "version": 2
   },
   "file_extension": ".py",
   "mimetype": "text/x-python",
   "name": "python",
   "nbconvert_exporter": "python",
   "pygments_lexer": "ipython2",
   "version": "2.7.6"
  }
 },
 "nbformat": 4,
 "nbformat_minor": 5
}
