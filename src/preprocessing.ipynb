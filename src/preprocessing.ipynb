{
 "cells": [
  {
   "cell_type": "code",
   "id": "initial_id",
   "metadata": {
    "collapsed": true
   },
   "source": [
    "import json\n",
    "from pathlib import Path"
   ],
   "outputs": [],
   "execution_count": null
  },
  {
   "metadata": {},
   "cell_type": "markdown",
   "source": "加载和合并原始数据",
   "id": "aa1e3c59978fa6b6"
  },
  {
   "metadata": {},
   "cell_type": "code",
   "source": "data_dir = Path('../data')",
   "id": "2488774afa0f4612",
   "outputs": [],
   "execution_count": null
  },
  {
   "metadata": {},
   "cell_type": "code",
   "source": [
    "ccf = json.load(open(data_dir / 'CCF.json', 'r', encoding='utf-8'))\n",
    "len(ccf)"
   ],
   "id": "5eeca237df798288",
   "outputs": [],
   "execution_count": null
  },
  {
   "metadata": {},
   "cell_type": "code",
   "source": [
    "sci = json.load(open(data_dir / 'CS-SCI_1-2.json', 'r', encoding='utf-8'))\n",
    "len(sci)"
   ],
   "id": "30b9ac8a15bd1cc3",
   "outputs": [],
   "execution_count": null
  },
  {
   "metadata": {},
   "cell_type": "code",
   "source": [
    "with open(data_dir / 'arxiv.json', 'r', encoding='utf-8') as f:\n",
    "    arxiv = [json.loads(line.strip(',\\n')) for line in f.readlines()]\n",
    "len(arxiv)"
   ],
   "id": "281ee2870bb7e96a",
   "outputs": [],
   "execution_count": null
  },
  {
   "metadata": {},
   "cell_type": "code",
   "source": [
    "from itertools import chain\n",
    "from tqdm import tqdm"
   ],
   "id": "d0da14518d85a10c",
   "outputs": [],
   "execution_count": null
  },
  {
   "metadata": {},
   "cell_type": "code",
   "source": [
    "data = list(chain(ccf, sci, arxiv))\n",
    "len(data)"
   ],
   "id": "6f3cc8d069482302",
   "outputs": [],
   "execution_count": null
  },
  {
   "metadata": {},
   "cell_type": "code",
   "source": "del ccf, sci, arxiv",
   "id": "7cb6bca9645c9c5d",
   "outputs": [],
   "execution_count": null
  },
  {
   "metadata": {},
   "cell_type": "markdown",
   "source": [
    "数据清洗\n",
    "1. 去除缺失值\n",
    "2. 去除重复值"
   ],
   "id": "eb269ee3b5769c7c"
  },
  {
   "metadata": {},
   "cell_type": "code",
   "source": [
    "data1 = list(filter(lambda d: d['_id'] and d['title'] and d['abstract'] and d['author'], data))\n",
    "len(data1)"
   ],
   "id": "7d88db187fcfebcd",
   "outputs": [],
   "execution_count": null
  },
  {
   "metadata": {},
   "cell_type": "code",
   "source": [
    "unique_id = set()\n",
    "unique_title = set()\n",
    "data2 = []\n",
    "for d in tqdm(data1):\n",
    "    if d['_id'] not in unique_id and d['title'] not in unique_title:\n",
    "        unique_id.add(d['_id'])\n",
    "        unique_title.add(d['title'])\n",
    "        data2.append(d)\n",
    "\n",
    "len(data2)"
   ],
   "id": "5d6e92ead2b53c66",
   "outputs": [],
   "execution_count": null
  },
  {
   "metadata": {},
   "cell_type": "code",
   "source": [
    "for d in tqdm(data2):\n",
    "    d['_id'] = d['_id'].replace('\\n', '')\n",
    "    d['title'] = d['title'].replace('\\n', '')\n",
    "    d['abstract'] = d['abstract'].replace('\\n', ' ')\n",
    "    d['author'] = d['author'].replace('\\n', '')"
   ],
   "id": "9c192f6782a9357f",
   "outputs": [],
   "execution_count": null
  },
  {
   "metadata": {},
   "cell_type": "code",
   "source": [
    "with open(data_dir / 'data.jsonl', 'w', encoding='utf-8') as f:\n",
    "    for d in tqdm(data2):\n",
    "        f.write(json.dumps(d, ensure_ascii=False) + '\\n')"
   ],
   "id": "e1c9adb4ecf4455d",
   "outputs": [],
   "execution_count": null
  },
  {
   "metadata": {},
   "cell_type": "code",
   "source": [
    "prompt = '''\n",
    "# 任务：从给定的论文摘要文本中提取命名实体和实体之间的关系。\n",
    "# 任务步骤：\n",
    "1. 归纳总结出摘要文本中的研究问题(Problem)、实验结果(Result)和结论(Conclusion)。\n",
    "2. 分别从总结的文本中提取出对应的一个或多个关键词，每个关键词表示一个实体，它的类型必须是Problem、Result和Conclusion中的一个，每个实体的id必须为一个数字\n",
    "3. 严格按规定的输出格式输出\n",
    "4. 必须检查输出结果\n",
    "# 输入：{0}\n",
    "# 输出格式：\n",
    "{{\n",
    "    'entities': [\n",
    "        {{'id': '', 'type': '', 'name': ''}},\n",
    "        {{'id': '', 'type': '', 'name': ''}},\n",
    "        {{'id': '', 'type': '', 'name': ''}},\n",
    "        {{'id': '', 'type': '', 'name': ''}}\n",
    "    ],\n",
    "    'relations': [\n",
    "        {{'type': '', 'from_entity_id': '', 'to_entity_id': '', 'from_entity_type': '', 'to_entity_type': ''}},\n",
    "    ]\n",
    "}}\n",
    "'''"
   ],
   "id": "e5ffa4eaa92f9351",
   "outputs": [],
   "execution_count": null
  },
  {
   "metadata": {},
   "cell_type": "code",
   "source": [
    "with open('../data/data.json', 'r', encoding='utf8') as f:\n",
    "    data = json.loads(f.read())\n",
    "    data = [\n",
    "        {\n",
    "            \"custom_id\": d['_id'],\n",
    "            \"method\": \"POST\",\n",
    "            \"url\": \"/v4/chat/completions\",\n",
    "            \"body\": {\n",
    "                \"model\": \"glm-4-flash\",\n",
    "                \"messages\": [\n",
    "                    {\"role\": \"system\", \"content\": \"你好，你是一个提取文本实体和关系的专家。\"},\n",
    "                    {\"role\": \"user\", \"content\": prompt.format(d['abstract'])}\n",
    "                ],\n",
    "            }\n",
    "        }\n",
    "        for d in data\n",
    "    ]\n",
    "\n",
    "with open('../data/data_prompt1.jsonl', 'w', encoding='utf8') as f:\n",
    "    for d in data:\n",
    "        f.write(json.dumps(d, ensure_ascii=False) + '\\n')\n"
   ],
   "id": "cff1408ac8e92f81",
   "outputs": [],
   "execution_count": null
  },
  {
   "metadata": {},
   "cell_type": "code",
   "source": "",
   "id": "64d3fdf0eaa55e6a",
   "outputs": [],
   "execution_count": null
  }
 ],
 "metadata": {
  "kernelspec": {
   "display_name": "Python 3",
   "language": "python",
   "name": "python3"
  },
  "language_info": {
   "codemirror_mode": {
    "name": "ipython",
    "version": 2
   },
   "file_extension": ".py",
   "mimetype": "text/x-python",
   "name": "python",
   "nbconvert_exporter": "python",
   "pygments_lexer": "ipython2",
   "version": "2.7.6"
  }
 },
 "nbformat": 4,
 "nbformat_minor": 5
}
