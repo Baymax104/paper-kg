{
 "cells": [
  {
   "cell_type": "code",
   "id": "initial_id",
   "metadata": {
    "collapsed": true,
    "ExecuteTime": {
     "end_time": "2025-01-10T14:43:08.728245Z",
     "start_time": "2025-01-10T14:43:08.695663Z"
    }
   },
   "source": [
    "import json\n",
    "from uuid import uuid4\n",
    "\n",
    "from tqdm import tqdm"
   ],
   "outputs": [],
   "execution_count": 59
  },
  {
   "metadata": {},
   "cell_type": "markdown",
   "source": "从data.json中提取所有的论文实体和作者实体及其关系",
   "id": "c174bf6ee7d222cf"
  },
  {
   "metadata": {},
   "cell_type": "code",
   "outputs": [],
   "execution_count": null,
   "source": [
    "def load_data():\n",
    "    with open('../data/data.json', 'r', encoding='utf-8') as f:\n",
    "        yield from iter(json.load(f))"
   ],
   "id": "cb1032e0dceb67a9"
  },
  {
   "metadata": {},
   "cell_type": "code",
   "outputs": [],
   "execution_count": null,
   "source": [
    "paper_entities = []\n",
    "author_entities = []\n",
    "relations = []\n",
    "author_dict = {}\n",
    "for paper in load_data():\n",
    "    paper_id = paper['_id']\n",
    "    paper_name = paper['title']\n",
    "    paper_properties = {'abstract': paper['abstract']}\n",
    "    paper_node = {\n",
    "        'id': paper_id,\n",
    "        'name': paper_name,\n",
    "        'type': 'Paper',\n",
    "        'properties': paper_properties\n",
    "    }\n",
    "    paper_entities.append(paper_node)\n",
    "    for author in paper['author'].split(','):\n",
    "        if author not in author_dict:\n",
    "            author_dict[author] = str(uuid4()).replace('-', '')\n",
    "            author_node = {\n",
    "                'id': author_dict[author],\n",
    "                'name': author,\n",
    "                'type': 'Author',\n",
    "            }\n",
    "            author_entities.append(author_node)\n",
    "        relation = {\n",
    "            'type': 'Write',\n",
    "            'from_entity_id': author_dict[author],\n",
    "            'to_entity_id': paper_id,\n",
    "            'from_entity_type': 'Author',\n",
    "            'to_entity_type': 'Paper'\n",
    "        }\n",
    "        relations.append(relation)\n",
    "\n",
    "print(f'paper entities: {len(paper_entities)}, authors: {len(author_entities)}, relations: {len(relations)}')\n",
    "\n",
    "with open('../output/paper-entities.jsonl', 'w', encoding='utf-8') as f:\n",
    "    for paper_entity in tqdm(paper_entities):\n",
    "        f.write(json.dumps(paper_entity, ensure_ascii=False) + '\\n')\n",
    "\n",
    "with open('../output/author-entities.jsonl', 'w', encoding='utf-8') as f:\n",
    "    for author_entity in tqdm(author_entities):\n",
    "        f.write(json.dumps(author_entity, ensure_ascii=False) + '\\n')\n",
    "\n",
    "with open('../output/author_paper_relations.jsonl', 'w', encoding='utf-8') as f:\n",
    "    for relation_entity in tqdm(relations):\n",
    "        f.write(json.dumps(relation_entity, ensure_ascii=False) + '\\n')\n"
   ],
   "id": "c0831cb012124368"
  },
  {
   "metadata": {},
   "cell_type": "markdown",
   "source": "重新设置模型提取结果中的实体id",
   "id": "3b15a707447f1c96"
  },
  {
   "metadata": {
    "ExecuteTime": {
     "end_time": "2025-01-10T14:04:16.072199Z",
     "start_time": "2025-01-10T14:04:16.064234Z"
    }
   },
   "cell_type": "code",
   "source": [
    "def set_paper_id(content):\n",
    "    entities: list[dict[str, str]] = content['entities']\n",
    "    relations: list[dict[str, str]] = content['relations']\n",
    "    if not entities or not relations:\n",
    "        return False\n",
    "    entity_id_dict = {entity['id']: str(uuid4()).replace('-', '') for entity in entities}\n",
    "    for entity in entities:\n",
    "        entity['id'] = entity_id_dict[entity['id']]\n",
    "    relations = [\n",
    "        relation for relation in relations\n",
    "        if relation['from_entity_id'] in entity_id_dict and relation['to_entity_id'] in entity_id_dict\n",
    "    ]\n",
    "    for relation in relations:\n",
    "        relation['from_entity_id'] = entity_id_dict[relation['from_entity_id']]\n",
    "        relation['to_entity_id'] = entity_id_dict[relation['to_entity_id']]\n",
    "    return True"
   ],
   "id": "cfd5764962af770e",
   "outputs": [],
   "execution_count": 45
  },
  {
   "metadata": {
    "ExecuteTime": {
     "end_time": "2025-01-10T14:05:31.624609Z",
     "start_time": "2025-01-10T14:05:29.298519Z"
    }
   },
   "cell_type": "code",
   "source": [
    "with open('../output1/data_prompt1.jsonl', 'r', encoding='utf-8') as f:\n",
    "    with open('../output1/paper_extract1.jsonl', 'w', encoding='utf-8') as of:\n",
    "        for line in f:\n",
    "            data = json.loads(line)\n",
    "            try:\n",
    "                set_paper_id(data['content'])\n",
    "            except Exception:\n",
    "                continue\n",
    "            of.write(json.dumps(data, ensure_ascii=False) + '\\n')"
   ],
   "id": "e808124265ffc5fe",
   "outputs": [],
   "execution_count": 48
  },
  {
   "metadata": {},
   "cell_type": "markdown",
   "source": "从模型提取结果中提取研究问题、实验结果、结论及其关系",
   "id": "51ba4bfc9f5dfc8b"
  },
  {
   "metadata": {
    "ExecuteTime": {
     "end_time": "2025-01-10T14:43:14.289182Z",
     "start_time": "2025-01-10T14:43:11.413364Z"
    }
   },
   "cell_type": "code",
   "source": [
    "paper_problem_relations = []\n",
    "paper_result_relations = []\n",
    "paper_conclusion_relations = []\n",
    "problem_entities = []\n",
    "result_entities = []\n",
    "conclusion_entities = []\n",
    "with open('../output1/paper_extract1.jsonl', 'r', encoding='utf-8') as f:\n",
    "    for line in f:\n",
    "        data = json.loads(line)\n",
    "        entities = data['content']['entities']\n",
    "        paper_id = data['id']\n",
    "        problem_entity = [entity for entity in entities if entity['type'].lower() == 'problem']\n",
    "        result_entity = [entity for entity in entities if entity['type'].lower() == 'result']\n",
    "        conclusion_entity = [entity for entity in entities if entity['type'].lower() == 'conclusion']\n",
    "        problem_entities.extend(problem_entity)\n",
    "        result_entities.extend(result_entity)\n",
    "        conclusion_entities.extend(conclusion_entity)\n",
    "\n",
    "        for entity in problem_entity:\n",
    "            relation = {\n",
    "                'type': 'Propose',\n",
    "                'from_entity_id': paper_id,\n",
    "                'to_entity_id': entity['id'],\n",
    "                'from_entity_type': 'Paper',\n",
    "                'to_entity_type': 'Problem'\n",
    "            }\n",
    "            paper_problem_relations.append(relation)\n",
    "\n",
    "        for entity in result_entity:\n",
    "            relation = {\n",
    "                'type': 'Result',\n",
    "                'from_entity_id': paper_id,\n",
    "                'to_entity_id': entity['id'],\n",
    "                'from_entity_type': 'Paper',\n",
    "                'to_entity_type': 'Result'\n",
    "            }\n",
    "            paper_result_relations.append(relation)\n",
    "\n",
    "        for entity in conclusion_entity:\n",
    "            relation = {\n",
    "                'type': 'Conclude',\n",
    "                'from_entity_id': paper_id,\n",
    "                'to_entity_id': entity['id'],\n",
    "                'from_entity_type': 'Paper',\n",
    "                'to_entity_type': 'Conclusion'\n",
    "            }\n",
    "            paper_conclusion_relations.append(relation)\n",
    "\n",
    "with open('../output/problem_entities.jsonl', 'w', encoding='utf-8') as f:\n",
    "    for entity in tqdm(problem_entities, desc='problem entities'):\n",
    "        f.write(json.dumps(entity, ensure_ascii=False) + '\\n')\n",
    "\n",
    "with open('../output/result_entities.jsonl', 'w', encoding='utf-8') as f:\n",
    "    for entity in tqdm(result_entities, desc='result entities'):\n",
    "        f.write(json.dumps(entity, ensure_ascii=False) + '\\n')\n",
    "\n",
    "with open('../output/conclusion_entities.jsonl', 'w', encoding='utf-8') as f:\n",
    "    for entity in tqdm(conclusion_entities, desc='conclusion entities'):\n",
    "        f.write(json.dumps(entity, ensure_ascii=False) + '\\n')\n",
    "\n",
    "with open('../output/paper_result_relations.jsonl', 'w', encoding='utf-8') as f:\n",
    "    for relation in tqdm(paper_result_relations, desc='paper result relations'):\n",
    "        f.write(json.dumps(relation, ensure_ascii=False) + '\\n')\n",
    "\n",
    "with open('../output/paper_problem_relations.jsonl', 'w', encoding='utf-8') as f:\n",
    "    for relation in tqdm(paper_problem_relations, desc='paper problem relations'):\n",
    "        f.write(json.dumps(relation, ensure_ascii=False) + '\\n')\n",
    "\n",
    "with open('../output/paper_conclusion_relations.jsonl', 'w', encoding='utf-8') as f:\n",
    "    for relation in tqdm(paper_conclusion_relations, desc='paper conclusion relations'):\n",
    "        f.write(json.dumps(relation, ensure_ascii=False) + '\\n')"
   ],
   "id": "5c0d0b4cbd0c6972",
   "outputs": [
    {
     "name": "stderr",
     "output_type": "stream",
     "text": [
      "problem entities: 100%|██████████| 59489/59489 [00:00<00:00, 230165.41it/s]\n",
      "result entities: 100%|██████████| 66498/66498 [00:00<00:00, 218142.82it/s]\n",
      "conclusion entities: 100%|██████████| 41949/41949 [00:00<00:00, 218141.00it/s]\n",
      "paper result relations: 100%|██████████| 66498/66498 [00:00<00:00, 185240.69it/s]\n",
      "paper problem relations: 100%|██████████| 59489/59489 [00:00<00:00, 176236.51it/s]\n",
      "paper conclusion relations: 100%|██████████| 41949/41949 [00:00<00:00, 184370.37it/s]\n"
     ]
    }
   ],
   "execution_count": 60
  },
  {
   "metadata": {},
   "cell_type": "code",
   "outputs": [],
   "execution_count": null,
   "source": "",
   "id": "77734bfc7fac2883"
  }
 ],
 "metadata": {
  "kernelspec": {
   "display_name": "Python 3",
   "language": "python",
   "name": "python3"
  },
  "language_info": {
   "codemirror_mode": {
    "name": "ipython",
    "version": 2
   },
   "file_extension": ".py",
   "mimetype": "text/x-python",
   "name": "python",
   "nbconvert_exporter": "python",
   "pygments_lexer": "ipython2",
   "version": "2.7.6"
  }
 },
 "nbformat": 4,
 "nbformat_minor": 5
}
